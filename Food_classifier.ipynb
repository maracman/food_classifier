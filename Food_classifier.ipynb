{
  "nbformat": 4,
  "nbformat_minor": 0,
  "metadata": {
    "colab": {
      "name": "Food classifier.ipynb",
      "provenance": [],
      "collapsed_sections": [],
      "authorship_tag": "ABX9TyP1cfQYjs7QLuhpSEIrqlV6",
      "include_colab_link": true
    },
    "kernelspec": {
      "name": "python3",
      "display_name": "Python 3"
    },
    "language_info": {
      "name": "python"
    },
    "accelerator": "GPU",
    "widgets": {
      "application/vnd.jupyter.widget-state+json": {
        "71804a8d96384653b3b9c7ef7e251561": {
          "model_module": "@jupyter-widgets/controls",
          "model_name": "FileUploadModel",
          "model_module_version": "1.5.0",
          "state": {
            "_view_name": "FileUploadView",
            "_counter": 0,
            "style": "IPY_MODEL_06cf460b0e2c4a958094b736e48f5d36",
            "_dom_classes": [],
            "description": "Upload",
            "multiple": false,
            "_model_name": "FileUploadModel",
            "data": [],
            "button_style": "",
            "_view_module": "@jupyter-widgets/controls",
            "_model_module_version": "1.5.0",
            "accept": "",
            "_view_count": null,
            "disabled": false,
            "_view_module_version": "1.5.0",
            "error": "",
            "description_tooltip": null,
            "metadata": [],
            "_model_module": "@jupyter-widgets/controls",
            "layout": "IPY_MODEL_1c5f4759b5d04e2ca08ecb543c3020da",
            "icon": "upload"
          }
        },
        "06cf460b0e2c4a958094b736e48f5d36": {
          "model_module": "@jupyter-widgets/controls",
          "model_name": "ButtonStyleModel",
          "model_module_version": "1.5.0",
          "state": {
            "_view_name": "StyleView",
            "_model_name": "ButtonStyleModel",
            "_view_module": "@jupyter-widgets/base",
            "_model_module_version": "1.5.0",
            "_view_count": null,
            "button_color": null,
            "font_weight": "",
            "_view_module_version": "1.2.0",
            "_model_module": "@jupyter-widgets/controls"
          }
        },
        "1c5f4759b5d04e2ca08ecb543c3020da": {
          "model_module": "@jupyter-widgets/base",
          "model_name": "LayoutModel",
          "model_module_version": "1.2.0",
          "state": {
            "_view_name": "LayoutView",
            "grid_template_rows": null,
            "right": null,
            "justify_content": null,
            "_view_module": "@jupyter-widgets/base",
            "overflow": null,
            "_model_module_version": "1.2.0",
            "_view_count": null,
            "flex_flow": null,
            "width": null,
            "min_width": null,
            "border": null,
            "align_items": null,
            "bottom": null,
            "_model_module": "@jupyter-widgets/base",
            "top": null,
            "grid_column": null,
            "overflow_y": null,
            "overflow_x": null,
            "grid_auto_flow": null,
            "grid_area": null,
            "grid_template_columns": null,
            "flex": null,
            "_model_name": "LayoutModel",
            "justify_items": null,
            "grid_row": null,
            "max_height": null,
            "align_content": null,
            "visibility": null,
            "align_self": null,
            "height": null,
            "min_height": null,
            "padding": null,
            "grid_auto_rows": null,
            "grid_gap": null,
            "max_width": null,
            "order": null,
            "_view_module_version": "1.2.0",
            "grid_template_areas": null,
            "object_position": null,
            "object_fit": null,
            "grid_auto_columns": null,
            "margin": null,
            "display": null,
            "left": null
          }
        },
        "5be188eb6f77414d9e681c1deca26427": {
          "model_module": "@jupyter-widgets/output",
          "model_name": "OutputModel",
          "model_module_version": "1.0.0",
          "state": {
            "_view_name": "OutputView",
            "msg_id": "",
            "_dom_classes": [],
            "_model_name": "OutputModel",
            "outputs": [
              {
                "output_type": "display_data",
                "data": {
                  "image/png": "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\n",
                  "text/plain": "<PIL.Image.Image image mode=RGB size=128x106 at 0x7F073298DBD0>"
                },
                "metadata": {}
              }
            ],
            "_view_module": "@jupyter-widgets/output",
            "_model_module_version": "1.0.0",
            "_view_count": null,
            "_view_module_version": "1.0.0",
            "layout": "IPY_MODEL_59a7214c70dc489c982e36a409ba5fe6",
            "_model_module": "@jupyter-widgets/output"
          }
        },
        "59a7214c70dc489c982e36a409ba5fe6": {
          "model_module": "@jupyter-widgets/base",
          "model_name": "LayoutModel",
          "model_module_version": "1.2.0",
          "state": {
            "_view_name": "LayoutView",
            "grid_template_rows": null,
            "right": null,
            "justify_content": null,
            "_view_module": "@jupyter-widgets/base",
            "overflow": null,
            "_model_module_version": "1.2.0",
            "_view_count": null,
            "flex_flow": null,
            "width": null,
            "min_width": null,
            "border": null,
            "align_items": null,
            "bottom": null,
            "_model_module": "@jupyter-widgets/base",
            "top": null,
            "grid_column": null,
            "overflow_y": null,
            "overflow_x": null,
            "grid_auto_flow": null,
            "grid_area": null,
            "grid_template_columns": null,
            "flex": null,
            "_model_name": "LayoutModel",
            "justify_items": null,
            "grid_row": null,
            "max_height": null,
            "align_content": null,
            "visibility": null,
            "align_self": null,
            "height": null,
            "min_height": null,
            "padding": null,
            "grid_auto_rows": null,
            "grid_gap": null,
            "max_width": null,
            "order": null,
            "_view_module_version": "1.2.0",
            "grid_template_areas": null,
            "object_position": null,
            "object_fit": null,
            "grid_auto_columns": null,
            "margin": null,
            "display": null,
            "left": null
          }
        },
        "002304d0778842c69ab9785476fc2cb9": {
          "model_module": "@jupyter-widgets/controls",
          "model_name": "LabelModel",
          "model_module_version": "1.5.0",
          "state": {
            "_view_name": "LabelView",
            "style": "IPY_MODEL_5b422e63516b47798c58709a277c5674",
            "_dom_classes": [],
            "description": "",
            "_model_name": "LabelModel",
            "placeholder": "​",
            "_view_module": "@jupyter-widgets/controls",
            "_model_module_version": "1.5.0",
            "value": "Prediction: healthy; Probability: 0.9952",
            "_view_count": null,
            "_view_module_version": "1.5.0",
            "description_tooltip": null,
            "_model_module": "@jupyter-widgets/controls",
            "layout": "IPY_MODEL_4c139f9deea44b70b9d5612c39324d41"
          }
        },
        "5b422e63516b47798c58709a277c5674": {
          "model_module": "@jupyter-widgets/controls",
          "model_name": "DescriptionStyleModel",
          "model_module_version": "1.5.0",
          "state": {
            "_view_name": "StyleView",
            "_model_name": "DescriptionStyleModel",
            "description_width": "",
            "_view_module": "@jupyter-widgets/base",
            "_model_module_version": "1.5.0",
            "_view_count": null,
            "_view_module_version": "1.2.0",
            "_model_module": "@jupyter-widgets/controls"
          }
        },
        "4c139f9deea44b70b9d5612c39324d41": {
          "model_module": "@jupyter-widgets/base",
          "model_name": "LayoutModel",
          "model_module_version": "1.2.0",
          "state": {
            "_view_name": "LayoutView",
            "grid_template_rows": null,
            "right": null,
            "justify_content": null,
            "_view_module": "@jupyter-widgets/base",
            "overflow": null,
            "_model_module_version": "1.2.0",
            "_view_count": null,
            "flex_flow": null,
            "width": null,
            "min_width": null,
            "border": null,
            "align_items": null,
            "bottom": null,
            "_model_module": "@jupyter-widgets/base",
            "top": null,
            "grid_column": null,
            "overflow_y": null,
            "overflow_x": null,
            "grid_auto_flow": null,
            "grid_area": null,
            "grid_template_columns": null,
            "flex": null,
            "_model_name": "LayoutModel",
            "justify_items": null,
            "grid_row": null,
            "max_height": null,
            "align_content": null,
            "visibility": null,
            "align_self": null,
            "height": null,
            "min_height": null,
            "padding": null,
            "grid_auto_rows": null,
            "grid_gap": null,
            "max_width": null,
            "order": null,
            "_view_module_version": "1.2.0",
            "grid_template_areas": null,
            "object_position": null,
            "object_fit": null,
            "grid_auto_columns": null,
            "margin": null,
            "display": null,
            "left": null
          }
        },
        "76676479eb2049fb8c7e4dc64b208c22": {
          "model_module": "@jupyter-widgets/controls",
          "model_name": "ButtonModel",
          "model_module_version": "1.5.0",
          "state": {
            "_view_name": "ButtonView",
            "style": "IPY_MODEL_240e037ab6aa4db0829ea52e8842e76a",
            "_dom_classes": [],
            "description": "Classify",
            "_model_name": "ButtonModel",
            "button_style": "",
            "_view_module": "@jupyter-widgets/controls",
            "_model_module_version": "1.5.0",
            "tooltip": "",
            "_view_count": null,
            "disabled": false,
            "_view_module_version": "1.5.0",
            "layout": "IPY_MODEL_9c77bc098a2846b7b5ac57647fe06702",
            "_model_module": "@jupyter-widgets/controls",
            "icon": ""
          }
        },
        "240e037ab6aa4db0829ea52e8842e76a": {
          "model_module": "@jupyter-widgets/controls",
          "model_name": "ButtonStyleModel",
          "model_module_version": "1.5.0",
          "state": {
            "_view_name": "StyleView",
            "_model_name": "ButtonStyleModel",
            "_view_module": "@jupyter-widgets/base",
            "_model_module_version": "1.5.0",
            "_view_count": null,
            "button_color": null,
            "font_weight": "",
            "_view_module_version": "1.2.0",
            "_model_module": "@jupyter-widgets/controls"
          }
        },
        "9c77bc098a2846b7b5ac57647fe06702": {
          "model_module": "@jupyter-widgets/base",
          "model_name": "LayoutModel",
          "model_module_version": "1.2.0",
          "state": {
            "_view_name": "LayoutView",
            "grid_template_rows": null,
            "right": null,
            "justify_content": null,
            "_view_module": "@jupyter-widgets/base",
            "overflow": null,
            "_model_module_version": "1.2.0",
            "_view_count": null,
            "flex_flow": null,
            "width": null,
            "min_width": null,
            "border": null,
            "align_items": null,
            "bottom": null,
            "_model_module": "@jupyter-widgets/base",
            "top": null,
            "grid_column": null,
            "overflow_y": null,
            "overflow_x": null,
            "grid_auto_flow": null,
            "grid_area": null,
            "grid_template_columns": null,
            "flex": null,
            "_model_name": "LayoutModel",
            "justify_items": null,
            "grid_row": null,
            "max_height": null,
            "align_content": null,
            "visibility": null,
            "align_self": null,
            "height": null,
            "min_height": null,
            "padding": null,
            "grid_auto_rows": null,
            "grid_gap": null,
            "max_width": null,
            "order": null,
            "_view_module_version": "1.2.0",
            "grid_template_areas": null,
            "object_position": null,
            "object_fit": null,
            "grid_auto_columns": null,
            "margin": null,
            "display": null,
            "left": null
          }
        },
        "fb7616720c734df4a8a365c7e859e369": {
          "model_module": "@jupyter-widgets/controls",
          "model_name": "VBoxModel",
          "model_module_version": "1.5.0",
          "state": {
            "_view_name": "VBoxView",
            "_dom_classes": [],
            "_model_name": "VBoxModel",
            "_view_module": "@jupyter-widgets/controls",
            "_model_module_version": "1.5.0",
            "_view_count": null,
            "_view_module_version": "1.5.0",
            "box_style": "",
            "layout": "IPY_MODEL_439e537327f3481e9ea073addc7ce732",
            "_model_module": "@jupyter-widgets/controls",
            "children": [
              "IPY_MODEL_97c26592a5524f9c859b3a3496e06ab2",
              "IPY_MODEL_6fd23c3dd9094a6d836f7cdf0c3d9ebc",
              "IPY_MODEL_76676479eb2049fb8c7e4dc64b208c22",
              "IPY_MODEL_5be188eb6f77414d9e681c1deca26427",
              "IPY_MODEL_002304d0778842c69ab9785476fc2cb9"
            ]
          }
        },
        "439e537327f3481e9ea073addc7ce732": {
          "model_module": "@jupyter-widgets/base",
          "model_name": "LayoutModel",
          "model_module_version": "1.2.0",
          "state": {
            "_view_name": "LayoutView",
            "grid_template_rows": null,
            "right": null,
            "justify_content": null,
            "_view_module": "@jupyter-widgets/base",
            "overflow": null,
            "_model_module_version": "1.2.0",
            "_view_count": null,
            "flex_flow": null,
            "width": null,
            "min_width": null,
            "border": null,
            "align_items": null,
            "bottom": null,
            "_model_module": "@jupyter-widgets/base",
            "top": null,
            "grid_column": null,
            "overflow_y": null,
            "overflow_x": null,
            "grid_auto_flow": null,
            "grid_area": null,
            "grid_template_columns": null,
            "flex": null,
            "_model_name": "LayoutModel",
            "justify_items": null,
            "grid_row": null,
            "max_height": null,
            "align_content": null,
            "visibility": null,
            "align_self": null,
            "height": null,
            "min_height": null,
            "padding": null,
            "grid_auto_rows": null,
            "grid_gap": null,
            "max_width": null,
            "order": null,
            "_view_module_version": "1.2.0",
            "grid_template_areas": null,
            "object_position": null,
            "object_fit": null,
            "grid_auto_columns": null,
            "margin": null,
            "display": null,
            "left": null
          }
        },
        "97c26592a5524f9c859b3a3496e06ab2": {
          "model_module": "@jupyter-widgets/controls",
          "model_name": "LabelModel",
          "model_module_version": "1.5.0",
          "state": {
            "_view_name": "LabelView",
            "style": "IPY_MODEL_ce2528536c74449b9baeb57d2a10ede4",
            "_dom_classes": [],
            "description": "",
            "_model_name": "LabelModel",
            "placeholder": "​",
            "_view_module": "@jupyter-widgets/controls",
            "_model_module_version": "1.5.0",
            "value": "Upload a photo of your meal!",
            "_view_count": null,
            "_view_module_version": "1.5.0",
            "description_tooltip": null,
            "_model_module": "@jupyter-widgets/controls",
            "layout": "IPY_MODEL_f55c099df7ab41dcb7c56350aff9f9ed"
          }
        },
        "6fd23c3dd9094a6d836f7cdf0c3d9ebc": {
          "model_module": "@jupyter-widgets/controls",
          "model_name": "FileUploadModel",
          "model_module_version": "1.5.0",
          "state": {
            "_view_name": "FileUploadView",
            "_counter": 3,
            "style": "IPY_MODEL_0c4dce93533949eb950c3113c0c7bb8d",
            "_dom_classes": [],
            "description": "Upload",
            "multiple": false,
            "_model_name": "FileUploadModel",
            "data": [
              null
            ],
            "button_style": "",
            "_view_module": "@jupyter-widgets/controls",
            "_model_module_version": "1.5.0",
            "accept": "",
            "_view_count": null,
            "disabled": false,
            "_view_module_version": "1.5.0",
            "error": "",
            "description_tooltip": null,
            "metadata": [
              {
                "name": "Tomato_je.jpeg",
                "type": "image/jpeg",
                "size": 238015,
                "lastModified": 1630873255989
              }
            ],
            "_model_module": "@jupyter-widgets/controls",
            "layout": "IPY_MODEL_5a2b90791e324c78993910a94e2c9a6d",
            "icon": "upload"
          }
        },
        "ce2528536c74449b9baeb57d2a10ede4": {
          "model_module": "@jupyter-widgets/controls",
          "model_name": "DescriptionStyleModel",
          "model_module_version": "1.5.0",
          "state": {
            "_view_name": "StyleView",
            "_model_name": "DescriptionStyleModel",
            "description_width": "",
            "_view_module": "@jupyter-widgets/base",
            "_model_module_version": "1.5.0",
            "_view_count": null,
            "_view_module_version": "1.2.0",
            "_model_module": "@jupyter-widgets/controls"
          }
        },
        "f55c099df7ab41dcb7c56350aff9f9ed": {
          "model_module": "@jupyter-widgets/base",
          "model_name": "LayoutModel",
          "model_module_version": "1.2.0",
          "state": {
            "_view_name": "LayoutView",
            "grid_template_rows": null,
            "right": null,
            "justify_content": null,
            "_view_module": "@jupyter-widgets/base",
            "overflow": null,
            "_model_module_version": "1.2.0",
            "_view_count": null,
            "flex_flow": null,
            "width": null,
            "min_width": null,
            "border": null,
            "align_items": null,
            "bottom": null,
            "_model_module": "@jupyter-widgets/base",
            "top": null,
            "grid_column": null,
            "overflow_y": null,
            "overflow_x": null,
            "grid_auto_flow": null,
            "grid_area": null,
            "grid_template_columns": null,
            "flex": null,
            "_model_name": "LayoutModel",
            "justify_items": null,
            "grid_row": null,
            "max_height": null,
            "align_content": null,
            "visibility": null,
            "align_self": null,
            "height": null,
            "min_height": null,
            "padding": null,
            "grid_auto_rows": null,
            "grid_gap": null,
            "max_width": null,
            "order": null,
            "_view_module_version": "1.2.0",
            "grid_template_areas": null,
            "object_position": null,
            "object_fit": null,
            "grid_auto_columns": null,
            "margin": null,
            "display": null,
            "left": null
          }
        },
        "0c4dce93533949eb950c3113c0c7bb8d": {
          "model_module": "@jupyter-widgets/controls",
          "model_name": "ButtonStyleModel",
          "model_module_version": "1.5.0",
          "state": {
            "_view_name": "StyleView",
            "_model_name": "ButtonStyleModel",
            "_view_module": "@jupyter-widgets/base",
            "_model_module_version": "1.5.0",
            "_view_count": null,
            "button_color": null,
            "font_weight": "",
            "_view_module_version": "1.2.0",
            "_model_module": "@jupyter-widgets/controls"
          }
        },
        "5a2b90791e324c78993910a94e2c9a6d": {
          "model_module": "@jupyter-widgets/base",
          "model_name": "LayoutModel",
          "model_module_version": "1.2.0",
          "state": {
            "_view_name": "LayoutView",
            "grid_template_rows": null,
            "right": null,
            "justify_content": null,
            "_view_module": "@jupyter-widgets/base",
            "overflow": null,
            "_model_module_version": "1.2.0",
            "_view_count": null,
            "flex_flow": null,
            "width": null,
            "min_width": null,
            "border": null,
            "align_items": null,
            "bottom": null,
            "_model_module": "@jupyter-widgets/base",
            "top": null,
            "grid_column": null,
            "overflow_y": null,
            "overflow_x": null,
            "grid_auto_flow": null,
            "grid_area": null,
            "grid_template_columns": null,
            "flex": null,
            "_model_name": "LayoutModel",
            "justify_items": null,
            "grid_row": null,
            "max_height": null,
            "align_content": null,
            "visibility": null,
            "align_self": null,
            "height": null,
            "min_height": null,
            "padding": null,
            "grid_auto_rows": null,
            "grid_gap": null,
            "max_width": null,
            "order": null,
            "_view_module_version": "1.2.0",
            "grid_template_areas": null,
            "object_position": null,
            "object_fit": null,
            "grid_auto_columns": null,
            "margin": null,
            "display": null,
            "left": null
          }
        }
      }
    }
  },
  "cells": [
    {
      "cell_type": "markdown",
      "metadata": {
        "id": "view-in-github",
        "colab_type": "text"
      },
      "source": [
        "<a href=\"https://colab.research.google.com/github/maracman/food_classifier/blob/main/Food_classifier.ipynb\" target=\"_parent\"><img src=\"https://colab.research.google.com/assets/colab-badge.svg\" alt=\"Open In Colab\"/></a>"
      ]
    },
    {
      "cell_type": "code",
      "metadata": {
        "colab": {
          "base_uri": "https://localhost:8080/"
        },
        "id": "WE91jw2qn_Ly",
        "outputId": "ab4e3054-0842-454d-dcdc-eac827a7a7c9"
      },
      "source": [
        "!pip install -Uqq fastbook\n",
        "import fastbook\n",
        "fastbook.setup_book()\n",
        "\n"
      ],
      "execution_count": 23,
      "outputs": [
        {
          "output_type": "stream",
          "name": "stdout",
          "text": [
            "\u001b[?25l\r\u001b[K     |▊                               | 10 kB 22.0 MB/s eta 0:00:01\r\u001b[K     |█▍                              | 20 kB 27.9 MB/s eta 0:00:01\r\u001b[K     |██▏                             | 30 kB 24.0 MB/s eta 0:00:01\r\u001b[K     |██▉                             | 40 kB 18.6 MB/s eta 0:00:01\r\u001b[K     |███▋                            | 51 kB 15.7 MB/s eta 0:00:01\r\u001b[K     |████▎                           | 61 kB 12.7 MB/s eta 0:00:01\r\u001b[K     |█████                           | 71 kB 13.0 MB/s eta 0:00:01\r\u001b[K     |█████▊                          | 81 kB 14.3 MB/s eta 0:00:01\r\u001b[K     |██████▌                         | 92 kB 14.9 MB/s eta 0:00:01\r\u001b[K     |███████▏                        | 102 kB 13.9 MB/s eta 0:00:01\r\u001b[K     |████████                        | 112 kB 13.9 MB/s eta 0:00:01\r\u001b[K     |████████▋                       | 122 kB 13.9 MB/s eta 0:00:01\r\u001b[K     |█████████▍                      | 133 kB 13.9 MB/s eta 0:00:01\r\u001b[K     |██████████                      | 143 kB 13.9 MB/s eta 0:00:01\r\u001b[K     |██████████▉                     | 153 kB 13.9 MB/s eta 0:00:01\r\u001b[K     |███████████▌                    | 163 kB 13.9 MB/s eta 0:00:01\r\u001b[K     |████████████▎                   | 174 kB 13.9 MB/s eta 0:00:01\r\u001b[K     |█████████████                   | 184 kB 13.9 MB/s eta 0:00:01\r\u001b[K     |█████████████▊                  | 194 kB 13.9 MB/s eta 0:00:01\r\u001b[K     |██████████████▍                 | 204 kB 13.9 MB/s eta 0:00:01\r\u001b[K     |███████████████▏                | 215 kB 13.9 MB/s eta 0:00:01\r\u001b[K     |███████████████▉                | 225 kB 13.9 MB/s eta 0:00:01\r\u001b[K     |████████████████▋               | 235 kB 13.9 MB/s eta 0:00:01\r\u001b[K     |█████████████████▎              | 245 kB 13.9 MB/s eta 0:00:01\r\u001b[K     |██████████████████              | 256 kB 13.9 MB/s eta 0:00:01\r\u001b[K     |██████████████████▊             | 266 kB 13.9 MB/s eta 0:00:01\r\u001b[K     |███████████████████▍            | 276 kB 13.9 MB/s eta 0:00:01\r\u001b[K     |████████████████████▏           | 286 kB 13.9 MB/s eta 0:00:01\r\u001b[K     |████████████████████▉           | 296 kB 13.9 MB/s eta 0:00:01\r\u001b[K     |█████████████████████▋          | 307 kB 13.9 MB/s eta 0:00:01\r\u001b[K     |██████████████████████▎         | 317 kB 13.9 MB/s eta 0:00:01\r\u001b[K     |███████████████████████         | 327 kB 13.9 MB/s eta 0:00:01\r\u001b[K     |███████████████████████▊        | 337 kB 13.9 MB/s eta 0:00:01\r\u001b[K     |████████████████████████▌       | 348 kB 13.9 MB/s eta 0:00:01\r\u001b[K     |█████████████████████████▏      | 358 kB 13.9 MB/s eta 0:00:01\r\u001b[K     |██████████████████████████      | 368 kB 13.9 MB/s eta 0:00:01\r\u001b[K     |██████████████████████████▋     | 378 kB 13.9 MB/s eta 0:00:01\r\u001b[K     |███████████████████████████▍    | 389 kB 13.9 MB/s eta 0:00:01\r\u001b[K     |████████████████████████████    | 399 kB 13.9 MB/s eta 0:00:01\r\u001b[K     |████████████████████████████▉   | 409 kB 13.9 MB/s eta 0:00:01\r\u001b[K     |█████████████████████████████▌  | 419 kB 13.9 MB/s eta 0:00:01\r\u001b[K     |██████████████████████████████▎ | 430 kB 13.9 MB/s eta 0:00:01\r\u001b[K     |███████████████████████████████ | 440 kB 13.9 MB/s eta 0:00:01\r\u001b[K     |███████████████████████████████▊| 450 kB 13.9 MB/s eta 0:00:01\r\u001b[K     |████████████████████████████████| 455 kB 13.9 MB/s \n",
            "\u001b[31mERROR: pip's dependency resolver does not currently take into account all the packages that are installed. This behaviour is the source of the following dependency conflicts.\n",
            "voila 0.2.11 requires nbconvert<7,>=6.0.0, but you have nbconvert 5.6.1 which is incompatible.\n",
            "google-colab 1.0.0 requires tornado~=5.1.0; python_version >= \"3.0\", but you have tornado 6.1 which is incompatible.\u001b[0m\n",
            "\u001b[?25h"
          ]
        }
      ]
    },
    {
      "cell_type": "code",
      "metadata": {
        "id": "wdtC2b0BqafL"
      },
      "source": [
        "from fastbook import *\n",
        "from fastai.vision.widgets import *\n",
        "from fastai.imports import *\n"
      ],
      "execution_count": 24,
      "outputs": []
    },
    {
      "cell_type": "code",
      "metadata": {
        "id": "_yx4NOOZ1bxc",
        "colab": {
          "base_uri": "https://localhost:8080/",
          "height": 1000
        },
        "outputId": "ba83673a-6a17-4ab7-93cd-e6580c2b1f7f"
      },
      "source": [
        "!pip install voila\n",
        "!jupyter serverextension enable --sys-prefix voila"
      ],
      "execution_count": 25,
      "outputs": [
        {
          "output_type": "stream",
          "name": "stdout",
          "text": [
            "Requirement already satisfied: voila in /usr/local/lib/python3.7/dist-packages (0.2.11)\n",
            "Requirement already satisfied: nbclient<0.6,>=0.4.0 in /usr/local/lib/python3.7/dist-packages (from voila) (0.5.4)\n",
            "Collecting nbconvert<7,>=6.0.0\n",
            "  Using cached nbconvert-6.1.0-py3-none-any.whl (551 kB)\n",
            "Requirement already satisfied: jupyter-server<2.0.0,>=0.3.0 in /usr/local/lib/python3.7/dist-packages (from voila) (1.10.2)\n",
            "Requirement already satisfied: jupyter-client<7,>=6.1.3 in /usr/local/lib/python3.7/dist-packages (from voila) (6.1.12)\n",
            "Requirement already satisfied: jupyter-core>=4.6.0 in /usr/local/lib/python3.7/dist-packages (from jupyter-client<7,>=6.1.3->voila) (4.7.1)\n",
            "Requirement already satisfied: traitlets in /usr/local/lib/python3.7/dist-packages (from jupyter-client<7,>=6.1.3->voila) (5.0.5)\n",
            "Requirement already satisfied: tornado>=4.1 in /usr/local/lib/python3.7/dist-packages (from jupyter-client<7,>=6.1.3->voila) (6.1)\n",
            "Requirement already satisfied: python-dateutil>=2.1 in /usr/local/lib/python3.7/dist-packages (from jupyter-client<7,>=6.1.3->voila) (2.8.2)\n",
            "Requirement already satisfied: pyzmq>=13 in /usr/local/lib/python3.7/dist-packages (from jupyter-client<7,>=6.1.3->voila) (22.2.1)\n",
            "Requirement already satisfied: requests-unixsocket in /usr/local/lib/python3.7/dist-packages (from jupyter-server<2.0.0,>=0.3.0->voila) (0.2.0)\n",
            "Requirement already satisfied: prometheus-client in /usr/local/lib/python3.7/dist-packages (from jupyter-server<2.0.0,>=0.3.0->voila) (0.11.0)\n",
            "Requirement already satisfied: Send2Trash in /usr/local/lib/python3.7/dist-packages (from jupyter-server<2.0.0,>=0.3.0->voila) (1.8.0)\n",
            "Requirement already satisfied: terminado>=0.8.3 in /usr/local/lib/python3.7/dist-packages (from jupyter-server<2.0.0,>=0.3.0->voila) (0.11.0)\n",
            "Requirement already satisfied: argon2-cffi in /usr/local/lib/python3.7/dist-packages (from jupyter-server<2.0.0,>=0.3.0->voila) (21.1.0)\n",
            "Requirement already satisfied: nbformat in /usr/local/lib/python3.7/dist-packages (from jupyter-server<2.0.0,>=0.3.0->voila) (5.1.3)\n",
            "Requirement already satisfied: websocket-client in /usr/local/lib/python3.7/dist-packages (from jupyter-server<2.0.0,>=0.3.0->voila) (1.2.1)\n",
            "Requirement already satisfied: ipython-genutils in /usr/local/lib/python3.7/dist-packages (from jupyter-server<2.0.0,>=0.3.0->voila) (0.2.0)\n",
            "Requirement already satisfied: anyio<4,>=3.1.0 in /usr/local/lib/python3.7/dist-packages (from jupyter-server<2.0.0,>=0.3.0->voila) (3.3.0)\n",
            "Requirement already satisfied: jinja2 in /usr/local/lib/python3.7/dist-packages (from jupyter-server<2.0.0,>=0.3.0->voila) (2.11.3)\n",
            "Requirement already satisfied: sniffio>=1.1 in /usr/local/lib/python3.7/dist-packages (from anyio<4,>=3.1.0->jupyter-server<2.0.0,>=0.3.0->voila) (1.2.0)\n",
            "Requirement already satisfied: typing-extensions in /usr/local/lib/python3.7/dist-packages (from anyio<4,>=3.1.0->jupyter-server<2.0.0,>=0.3.0->voila) (3.7.4.3)\n",
            "Requirement already satisfied: idna>=2.8 in /usr/local/lib/python3.7/dist-packages (from anyio<4,>=3.1.0->jupyter-server<2.0.0,>=0.3.0->voila) (2.10)\n",
            "Requirement already satisfied: nest-asyncio in /usr/local/lib/python3.7/dist-packages (from nbclient<0.6,>=0.4.0->voila) (1.5.1)\n",
            "Requirement already satisfied: jupyterlab-pygments in /usr/local/lib/python3.7/dist-packages (from nbconvert<7,>=6.0.0->voila) (0.1.2)\n",
            "Requirement already satisfied: pandocfilters>=1.4.1 in /usr/local/lib/python3.7/dist-packages (from nbconvert<7,>=6.0.0->voila) (1.4.3)\n",
            "Requirement already satisfied: entrypoints>=0.2.2 in /usr/local/lib/python3.7/dist-packages (from nbconvert<7,>=6.0.0->voila) (0.3)\n",
            "Requirement already satisfied: pygments>=2.4.1 in /usr/local/lib/python3.7/dist-packages (from nbconvert<7,>=6.0.0->voila) (2.6.1)\n",
            "Requirement already satisfied: mistune<2,>=0.8.1 in /usr/local/lib/python3.7/dist-packages (from nbconvert<7,>=6.0.0->voila) (0.8.4)\n",
            "Requirement already satisfied: testpath in /usr/local/lib/python3.7/dist-packages (from nbconvert<7,>=6.0.0->voila) (0.5.0)\n",
            "Requirement already satisfied: bleach in /usr/local/lib/python3.7/dist-packages (from nbconvert<7,>=6.0.0->voila) (4.0.0)\n",
            "Requirement already satisfied: defusedxml in /usr/local/lib/python3.7/dist-packages (from nbconvert<7,>=6.0.0->voila) (0.7.1)\n",
            "Requirement already satisfied: MarkupSafe>=0.23 in /usr/local/lib/python3.7/dist-packages (from jinja2->jupyter-server<2.0.0,>=0.3.0->voila) (2.0.1)\n",
            "Requirement already satisfied: jsonschema!=2.5.0,>=2.4 in /usr/local/lib/python3.7/dist-packages (from nbformat->jupyter-server<2.0.0,>=0.3.0->voila) (2.6.0)\n",
            "Requirement already satisfied: six>=1.5 in /usr/local/lib/python3.7/dist-packages (from python-dateutil>=2.1->jupyter-client<7,>=6.1.3->voila) (1.15.0)\n",
            "Requirement already satisfied: ptyprocess in /usr/local/lib/python3.7/dist-packages (from terminado>=0.8.3->jupyter-server<2.0.0,>=0.3.0->voila) (0.7.0)\n",
            "Requirement already satisfied: cffi>=1.0.0 in /usr/local/lib/python3.7/dist-packages (from argon2-cffi->jupyter-server<2.0.0,>=0.3.0->voila) (1.14.6)\n",
            "Requirement already satisfied: pycparser in /usr/local/lib/python3.7/dist-packages (from cffi>=1.0.0->argon2-cffi->jupyter-server<2.0.0,>=0.3.0->voila) (2.20)\n",
            "Requirement already satisfied: webencodings in /usr/local/lib/python3.7/dist-packages (from bleach->nbconvert<7,>=6.0.0->voila) (0.5.1)\n",
            "Requirement already satisfied: packaging in /usr/local/lib/python3.7/dist-packages (from bleach->nbconvert<7,>=6.0.0->voila) (21.0)\n",
            "Requirement already satisfied: pyparsing>=2.0.2 in /usr/local/lib/python3.7/dist-packages (from packaging->bleach->nbconvert<7,>=6.0.0->voila) (2.4.7)\n",
            "Requirement already satisfied: requests>=1.1 in /usr/local/lib/python3.7/dist-packages (from requests-unixsocket->jupyter-server<2.0.0,>=0.3.0->voila) (2.23.0)\n",
            "Requirement already satisfied: urllib3>=1.8 in /usr/local/lib/python3.7/dist-packages (from requests-unixsocket->jupyter-server<2.0.0,>=0.3.0->voila) (1.24.3)\n",
            "Requirement already satisfied: certifi>=2017.4.17 in /usr/local/lib/python3.7/dist-packages (from requests>=1.1->requests-unixsocket->jupyter-server<2.0.0,>=0.3.0->voila) (2021.5.30)\n",
            "Requirement already satisfied: chardet<4,>=3.0.2 in /usr/local/lib/python3.7/dist-packages (from requests>=1.1->requests-unixsocket->jupyter-server<2.0.0,>=0.3.0->voila) (3.0.4)\n",
            "Installing collected packages: nbconvert\n",
            "  Attempting uninstall: nbconvert\n",
            "    Found existing installation: nbconvert 5.6.1\n",
            "    Uninstalling nbconvert-5.6.1:\n",
            "      Successfully uninstalled nbconvert-5.6.1\n",
            "\u001b[31mERROR: pip's dependency resolver does not currently take into account all the packages that are installed. This behaviour is the source of the following dependency conflicts.\n",
            "nbdev 1.1.22 requires nbconvert<6, but you have nbconvert 6.1.0 which is incompatible.\n",
            "google-colab 1.0.0 requires tornado~=5.1.0; python_version >= \"3.0\", but you have tornado 6.1 which is incompatible.\u001b[0m\n",
            "Successfully installed nbconvert-6.1.0\n"
          ]
        },
        {
          "output_type": "display_data",
          "data": {
            "application/vnd.colab-display-data+json": {
              "pip_warning": {
                "packages": [
                  "nbconvert"
                ]
              }
            }
          },
          "metadata": {}
        },
        {
          "output_type": "stream",
          "name": "stdout",
          "text": [
            "Enabling: voila\n",
            "- Writing config: /usr/etc/jupyter\n",
            "    - Validating...\n",
            "Error loading server extension voila\n",
            "     \u001b[31m X\u001b[0m is voila importable?\n"
          ]
        }
      ]
    },
    {
      "cell_type": "code",
      "metadata": {
        "id": "LN3677cAfg9H"
      },
      "source": [
        "import pickle as pkl"
      ],
      "execution_count": 26,
      "outputs": []
    },
    {
      "cell_type": "code",
      "metadata": {
        "colab": {
          "base_uri": "https://localhost:8080/"
        },
        "id": "ieaSlTq57lik",
        "outputId": "34711174-650e-49ab-fc7f-2e8595e4dc2f"
      },
      "source": [
        "path = Path()\n",
        "path.ls(file_exts='.pkl')"
      ],
      "execution_count": 27,
      "outputs": [
        {
          "output_type": "execute_result",
          "data": {
            "text/plain": [
              "(#1) [Path('export.pkl')]"
            ]
          },
          "metadata": {},
          "execution_count": 27
        }
      ]
    },
    {
      "cell_type": "code",
      "metadata": {
        "id": "xGU9DFY96JuM"
      },
      "source": [
        "learn_inf = load_learner(path/'export.pkl')"
      ],
      "execution_count": 28,
      "outputs": []
    },
    {
      "cell_type": "code",
      "metadata": {
        "colab": {
          "base_uri": "https://localhost:8080/",
          "height": 49,
          "referenced_widgets": [
            "71804a8d96384653b3b9c7ef7e251561",
            "06cf460b0e2c4a958094b736e48f5d36",
            "1c5f4759b5d04e2ca08ecb543c3020da"
          ]
        },
        "id": "O9DvleCw39-i",
        "outputId": "b0e0162c-e823-4d21-9f41-f32a1cddec15"
      },
      "source": [
        "#hide_output\n",
        "btn_upload = widgets.FileUpload()\n",
        "btn_upload"
      ],
      "execution_count": 29,
      "outputs": [
        {
          "output_type": "display_data",
          "data": {
            "application/vnd.jupyter.widget-view+json": {
              "model_id": "71804a8d96384653b3b9c7ef7e251561",
              "version_minor": 0,
              "version_major": 2
            },
            "text/plain": [
              "FileUpload(value={}, description='Upload')"
            ]
          },
          "metadata": {}
        }
      ]
    },
    {
      "cell_type": "code",
      "metadata": {
        "id": "ZjMxsIpW1ASY",
        "colab": {
          "base_uri": "https://localhost:8080/",
          "height": 164
        },
        "outputId": "7fd6ab39-8e48-4fa9-e4ba-48065c25fcd1"
      },
      "source": [
        "img = PILImage.create(btn_upload.data[-1])"
      ],
      "execution_count": 30,
      "outputs": [
        {
          "output_type": "error",
          "ename": "IndexError",
          "evalue": "ignored",
          "traceback": [
            "\u001b[0;31m---------------------------------------------------------------------------\u001b[0m",
            "\u001b[0;31mIndexError\u001b[0m                                Traceback (most recent call last)",
            "\u001b[0;32m<ipython-input-30-82db33b3197c>\u001b[0m in \u001b[0;36m<module>\u001b[0;34m()\u001b[0m\n\u001b[0;32m----> 1\u001b[0;31m \u001b[0mimg\u001b[0m \u001b[0;34m=\u001b[0m \u001b[0mPILImage\u001b[0m\u001b[0;34m.\u001b[0m\u001b[0mcreate\u001b[0m\u001b[0;34m(\u001b[0m\u001b[0mbtn_upload\u001b[0m\u001b[0;34m.\u001b[0m\u001b[0mdata\u001b[0m\u001b[0;34m[\u001b[0m\u001b[0;34m-\u001b[0m\u001b[0;36m1\u001b[0m\u001b[0;34m]\u001b[0m\u001b[0;34m)\u001b[0m\u001b[0;34m\u001b[0m\u001b[0;34m\u001b[0m\u001b[0m\n\u001b[0m",
            "\u001b[0;31mIndexError\u001b[0m: list index out of range"
          ]
        }
      ]
    },
    {
      "cell_type": "code",
      "metadata": {
        "colab": {
          "base_uri": "https://localhost:8080/",
          "height": 123,
          "referenced_widgets": [
            "5be188eb6f77414d9e681c1deca26427",
            "59a7214c70dc489c982e36a409ba5fe6"
          ]
        },
        "id": "Iw3f7Ldu4EEh",
        "outputId": "d377720b-354e-4b02-e23d-e9d6d4f132e2"
      },
      "source": [
        "out_pl = widgets.Output()\n",
        "out_pl.clear_output()\n",
        "with out_pl: display(img.to_thumb(128,128))\n",
        "out_pl"
      ],
      "execution_count": 31,
      "outputs": [
        {
          "output_type": "display_data",
          "data": {
            "application/vnd.jupyter.widget-view+json": {
              "model_id": "5be188eb6f77414d9e681c1deca26427",
              "version_minor": 0,
              "version_major": 2
            },
            "text/plain": [
              "Output()"
            ]
          },
          "metadata": {}
        }
      ]
    },
    {
      "cell_type": "code",
      "metadata": {
        "id": "Tul61MQ_4KFe",
        "colab": {
          "base_uri": "https://localhost:8080/",
          "height": 17
        },
        "outputId": "856c2c0c-5a83-4fcc-a216-f3a20f6eab7e"
      },
      "source": [
        "pred,pred_idx,probs = learn_inf.predict(img)"
      ],
      "execution_count": 32,
      "outputs": [
        {
          "output_type": "display_data",
          "data": {
            "text/html": [
              ""
            ],
            "text/plain": [
              "<IPython.core.display.HTML object>"
            ]
          },
          "metadata": {}
        }
      ]
    },
    {
      "cell_type": "code",
      "metadata": {
        "id": "ZNulVABb4PeC",
        "colab": {
          "base_uri": "https://localhost:8080/",
          "height": 49,
          "referenced_widgets": [
            "002304d0778842c69ab9785476fc2cb9",
            "5b422e63516b47798c58709a277c5674",
            "4c139f9deea44b70b9d5612c39324d41"
          ]
        },
        "outputId": "3a664c94-6101-417e-a3f7-d8ff5e76e993"
      },
      "source": [
        "lbl_pred = widgets.Label()\n",
        "lbl_pred.value = f'Prediction: {pred}; Probability: {probs[pred_idx]:.04f}'\n",
        "lbl_pred"
      ],
      "execution_count": 33,
      "outputs": [
        {
          "output_type": "display_data",
          "data": {
            "application/vnd.jupyter.widget-view+json": {
              "model_id": "002304d0778842c69ab9785476fc2cb9",
              "version_minor": 0,
              "version_major": 2
            },
            "text/plain": [
              "Label(value='Prediction: healthy; Probability: 0.9952')"
            ]
          },
          "metadata": {}
        }
      ]
    },
    {
      "cell_type": "code",
      "metadata": {
        "id": "JVUXGQB04UCP",
        "colab": {
          "base_uri": "https://localhost:8080/",
          "height": 49,
          "referenced_widgets": [
            "76676479eb2049fb8c7e4dc64b208c22",
            "240e037ab6aa4db0829ea52e8842e76a",
            "9c77bc098a2846b7b5ac57647fe06702"
          ]
        },
        "outputId": "2a2b063d-b148-41ab-e42d-1fddca63ad5b"
      },
      "source": [
        "btn_run = widgets.Button(description='Classify')\n",
        "btn_run"
      ],
      "execution_count": 34,
      "outputs": [
        {
          "output_type": "display_data",
          "data": {
            "application/vnd.jupyter.widget-view+json": {
              "model_id": "76676479eb2049fb8c7e4dc64b208c22",
              "version_minor": 0,
              "version_major": 2
            },
            "text/plain": [
              "Button(description='Classify', style=ButtonStyle())"
            ]
          },
          "metadata": {}
        }
      ]
    },
    {
      "cell_type": "code",
      "metadata": {
        "id": "OWHj2Ok133Yy"
      },
      "source": [
        "def on_click_classify(change):\n",
        "    img = PILImage.create(btn_upload.data[-1])\n",
        "    out_pl.clear_output()\n",
        "    with out_pl: display(img.to_thumb(128,128))\n",
        "    pred,pred_idx,probs = learn_inf.predict(img)\n",
        "    lbl_pred.value = f'Prediction: {pred}; Probability: {probs[pred_idx]:.04f}'\n",
        "\n",
        "btn_run.on_click(on_click_classify)"
      ],
      "execution_count": 36,
      "outputs": []
    },
    {
      "cell_type": "code",
      "metadata": {
        "id": "MbFYacHr4aU_"
      },
      "source": [
        "#Putting back btn_upload to a widget for next cell\n",
        "btn_upload = widgets.FileUpload()"
      ],
      "execution_count": 37,
      "outputs": []
    },
    {
      "cell_type": "code",
      "metadata": {
        "id": "Q5MuoIJe4dHU",
        "colab": {
          "base_uri": "https://localhost:8080/",
          "height": 251,
          "referenced_widgets": [
            "fb7616720c734df4a8a365c7e859e369",
            "439e537327f3481e9ea073addc7ce732",
            "97c26592a5524f9c859b3a3496e06ab2",
            "6fd23c3dd9094a6d836f7cdf0c3d9ebc",
            "76676479eb2049fb8c7e4dc64b208c22",
            "5be188eb6f77414d9e681c1deca26427",
            "002304d0778842c69ab9785476fc2cb9",
            "ce2528536c74449b9baeb57d2a10ede4",
            "f55c099df7ab41dcb7c56350aff9f9ed",
            "0c4dce93533949eb950c3113c0c7bb8d",
            "5a2b90791e324c78993910a94e2c9a6d",
            "240e037ab6aa4db0829ea52e8842e76a",
            "9c77bc098a2846b7b5ac57647fe06702",
            "5b422e63516b47798c58709a277c5674",
            "4c139f9deea44b70b9d5612c39324d41",
            "59a7214c70dc489c982e36a409ba5fe6"
          ]
        },
        "outputId": "fb61b62d-8da5-412f-d443-f67d6c168c7c"
      },
      "source": [
        "#hide_output\n",
        "VBox([widgets.Label('Upload a photo of your meal!'), \n",
        "      btn_upload, btn_run, out_pl, lbl_pred])"
      ],
      "execution_count": 40,
      "outputs": [
        {
          "output_type": "display_data",
          "data": {
            "application/vnd.jupyter.widget-view+json": {
              "model_id": "fb7616720c734df4a8a365c7e859e369",
              "version_minor": 0,
              "version_major": 2
            },
            "text/plain": [
              "VBox(children=(Label(value='Upload a photo of your meal!'), FileUpload(value={'RedDot_Burger.jpeg': {'metadata…"
            ]
          },
          "metadata": {}
        },
        {
          "output_type": "display_data",
          "data": {
            "text/html": [
              ""
            ],
            "text/plain": [
              "<IPython.core.display.HTML object>"
            ]
          },
          "metadata": {}
        },
        {
          "output_type": "display_data",
          "data": {
            "text/html": [
              ""
            ],
            "text/plain": [
              "<IPython.core.display.HTML object>"
            ]
          },
          "metadata": {}
        }
      ]
    }
  ]
}